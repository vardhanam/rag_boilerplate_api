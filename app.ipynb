{
 "cells": [
  {
   "cell_type": "code",
   "execution_count": 2,
   "metadata": {},
   "outputs": [],
   "source": [
    "from langchain_community.llms import Ollama\n",
    "from langchain_community.embeddings import HuggingFaceEmbeddings\n",
    "from langchain_community.document_loaders import DirectoryLoader, PyPDFLoader\n",
    "from langchain.text_splitter import RecursiveCharacterTextSplitter\n",
    "from langchain_chroma import Chroma\n",
    "from langchain_core.output_parsers import StrOutputParser\n",
    "from langchain_core.prompts import ChatPromptTemplate\n",
    "from langchain_core.runnables import RunnableParallel, RunnablePassthrough\n",
    "from langchain.docstore.document import Document\n",
    "\n",
    "llm = Ollama(model=\"llama3\")"
   ]
  },
  {
   "cell_type": "code",
   "execution_count": 3,
   "metadata": {},
   "outputs": [],
   "source": [
    "\n",
    "loader_temp = PyPDFLoader('/home/azureuser/cloudfiles/code/rag_boilerplate_api/output.pdf')\n",
    "docs_temp = loader_temp.load_and_split()\n",
    "for doc in docs_temp:\n",
    "    doc.page_content = doc.page_content.replace('\\n', ' ')\n"
   ]
  },
  {
   "cell_type": "code",
   "execution_count": 4,
   "metadata": {},
   "outputs": [
    {
     "name": "stderr",
     "output_type": "stream",
     "text": [
      "/anaconda/lib/python3.10/site-packages/tqdm/auto.py:21: TqdmWarning: IProgress not found. Please update jupyter and ipywidgets. See https://ipywidgets.readthedocs.io/en/stable/user_install.html\n",
      "  from .autonotebook import tqdm as notebook_tqdm\n",
      "/anaconda/lib/python3.10/site-packages/huggingface_hub/file_download.py:1132: FutureWarning: `resume_download` is deprecated and will be removed in version 1.0.0. Downloads always resume when possible. If you want to force a new download, use `force_download=True`.\n",
      "  warnings.warn(\n",
      "/anaconda/lib/python3.10/site-packages/huggingface_hub/file_download.py:1132: FutureWarning: `resume_download` is deprecated and will be removed in version 1.0.0. Downloads always resume when possible. If you want to force a new download, use `force_download=True`.\n",
      "  warnings.warn(\n"
     ]
    }
   ],
   "source": [
    "embeddings = HuggingFaceEmbeddings(model_name='BAAI/bge-large-en-v1.5')\n",
    "# Load PDFs from directory and prepare Chroma database if PDFs exist.\n",
    "\n",
    "db = Chroma.from_documents(docs_temp, embeddings)\n"
   ]
  },
  {
   "cell_type": "code",
   "execution_count": 30,
   "metadata": {},
   "outputs": [
    {
     "ename": "TypeError",
     "evalue": "Collection.get() got an unexpected keyword argument 'filter'",
     "output_type": "error",
     "traceback": [
      "\u001b[0;31m---------------------------------------------------------------------------\u001b[0m",
      "\u001b[0;31mTypeError\u001b[0m                                 Traceback (most recent call last)",
      "Cell \u001b[0;32mIn[30], line 2\u001b[0m\n\u001b[1;32m      1\u001b[0m source_filter \u001b[38;5;241m=\u001b[39m \u001b[38;5;124m'\u001b[39m\u001b[38;5;124m/home/azureuser/cloudfiles/code/rag_boilerplate_api/output.pdf\u001b[39m\u001b[38;5;124m'\u001b[39m\n\u001b[0;32m----> 2\u001b[0m filtered_output \u001b[38;5;241m=\u001b[39m \u001b[43mdb\u001b[49m\u001b[38;5;241;43m.\u001b[39;49m\u001b[43m_collection\u001b[49m\u001b[38;5;241;43m.\u001b[39;49m\u001b[43mget\u001b[49m\u001b[43m(\u001b[49m\u001b[38;5;28;43mfilter\u001b[39;49m\u001b[38;5;241;43m=\u001b[39;49m\u001b[43m \u001b[49m\u001b[43m[\u001b[49m\u001b[38;5;124;43m'\u001b[39;49m\u001b[38;5;124;43m2970fcbf-cfa5-415e-94fe-9d3819ccea4e\u001b[39;49m\u001b[38;5;124;43m'\u001b[39;49m\u001b[43m,\u001b[49m\n\u001b[1;32m      3\u001b[0m \u001b[43m  \u001b[49m\u001b[38;5;124;43m'\u001b[39;49m\u001b[38;5;124;43m46ec2f6c-fb40-4bd6-be62-06231de43c96\u001b[39;49m\u001b[38;5;124;43m'\u001b[39;49m\u001b[43m]\u001b[49m\u001b[43m)\u001b[49m\n\u001b[1;32m      5\u001b[0m filtered_ids \u001b[38;5;241m=\u001b[39m filtered_output[\u001b[38;5;124m'\u001b[39m\u001b[38;5;124mids\u001b[39m\u001b[38;5;124m'\u001b[39m]\n\u001b[1;32m      6\u001b[0m \u001b[38;5;28mprint\u001b[39m(filtered_ids)\n",
      "\u001b[0;31mTypeError\u001b[0m: Collection.get() got an unexpected keyword argument 'filter'"
     ]
    }
   ],
   "source": [
    "source_filter = '/home/azureuser/cloudfiles/code/rag_boilerplate_api/output.pdf'\n",
    "filtered_output = db._collection.get()\n",
    "\n",
    "filtered_ids = filtered_output['ids']\n",
    "print(filtered_ids)"
   ]
  },
  {
   "cell_type": "code",
   "execution_count": 33,
   "metadata": {},
   "outputs": [
    {
     "name": "stdout",
     "output_type": "stream",
     "text": [
      "[]\n"
     ]
    }
   ],
   "source": [
    "source_filter = '/home/azureuser/cloudfiles/code/rag_boilerplate_api/output.pdf'\n",
    "filtered_output = db.get(where={'metadatas.source': source_filter})\n",
    "\n",
    "filtered_ids = filtered_output['ids']\n",
    "print(filtered_ids)"
   ]
  },
  {
   "cell_type": "code",
   "execution_count": 41,
   "metadata": {},
   "outputs": [
    {
     "data": {
      "text/plain": [
       "{'ids': ['2970fcbf-cfa5-415e-94fe-9d3819ccea4e',\n",
       "  '46ec2f6c-fb40-4bd6-be62-06231de43c96',\n",
       "  '4733e389-655f-4d68-b12b-be1e4b67fdab',\n",
       "  '4e39ec7e-a2d0-4064-a4f4-b23a187de2e8',\n",
       "  '516dfa38-0dd1-4c17-beaa-66b56d6e7aaf',\n",
       "  '58b56386-54ff-453b-baec-c19353d3d9cb',\n",
       "  '63d99672-769f-48b5-a978-c78c9bcdf601',\n",
       "  '93357dca-22c8-4fc7-868d-6cb607fbc89d',\n",
       "  '94ffaf67-e518-49fc-b6cb-2b2864a0aa4c',\n",
       "  'b725e67f-1f3a-4f41-a884-b8f622f0694d',\n",
       "  'c1da45a3-f869-4464-b1f5-0119b127e849',\n",
       "  'c1ea7b98-65e4-49ea-8ff5-39e61661bc2d',\n",
       "  'cbcd0a11-d7a4-4b84-847c-b1928f42e06c',\n",
       "  'dd38edb1-128e-4836-82e1-d8b61b5b2a47',\n",
       "  'ebfe7828-0dda-401d-b2bb-a39499e536b5',\n",
       "  'fbe53ea5-141a-404b-8c1b-85df856ab475'],\n",
       " 'embeddings': None,\n",
       " 'metadatas': [{'page': 2,\n",
       "   'source': '/home/azureuser/cloudfiles/code/rag_boilerplate_api/output.pdf'},\n",
       "  {'page': 0,\n",
       "   'source': '/home/azureuser/cloudfiles/code/rag_boilerplate_api/output.pdf'},\n",
       "  {'page': 1,\n",
       "   'source': '/home/azureuser/cloudfiles/code/rag_boilerplate_api/output.pdf'},\n",
       "  {'page': 1,\n",
       "   'source': '/home/azureuser/cloudfiles/code/rag_boilerplate_api/output.pdf'},\n",
       "  {'page': 0,\n",
       "   'source': '/home/azureuser/cloudfiles/code/rag_boilerplate_api/output.pdf'},\n",
       "  {'page': 1,\n",
       "   'source': '/home/azureuser/cloudfiles/code/rag_boilerplate_api/output.pdf'},\n",
       "  {'page': 0,\n",
       "   'source': '/home/azureuser/cloudfiles/code/rag_boilerplate_api/output.pdf'},\n",
       "  {'page': 1,\n",
       "   'source': '/home/azureuser/cloudfiles/code/rag_boilerplate_api/output.pdf'},\n",
       "  {'page': 0,\n",
       "   'source': '/home/azureuser/cloudfiles/code/rag_boilerplate_api/output.pdf'},\n",
       "  {'page': 1,\n",
       "   'source': '/home/azureuser/cloudfiles/code/rag_boilerplate_api/output.pdf'},\n",
       "  {'page': 1,\n",
       "   'source': '/home/azureuser/cloudfiles/code/rag_boilerplate_api/output.pdf'},\n",
       "  {'page': 1,\n",
       "   'source': '/home/azureuser/cloudfiles/code/rag_boilerplate_api/output.pdf'},\n",
       "  {'page': 0,\n",
       "   'source': '/home/azureuser/cloudfiles/code/rag_boilerplate_api/output.pdf'},\n",
       "  {'page': 0,\n",
       "   'source': '/home/azureuser/cloudfiles/code/rag_boilerplate_api/output.pdf'},\n",
       "  {'page': 1,\n",
       "   'source': '/home/azureuser/cloudfiles/code/rag_boilerplate_api/output.pdf'},\n",
       "  {'page': 1,\n",
       "   'source': '/home/azureuser/cloudfiles/code/rag_boilerplate_api/output.pdf'}],\n",
       " 'documents': [\"Samsung Galaxy S4, Black Mist 16GB (Sprint) : Five Stars: Works like new. Apple iPhone 6S, 64GB, Space Gray - Fully Unlocked (Renewed) : Nice phone: Good Google Pixel 3 Verizon 64GB Black : Poor imitation of iPhone. Impossible to hold.: Software is good, but the phone design is a horrible imitation of the latest iPhone with rounded edges, which makes the device not only ugly, but impossible to hold. No grip and slippery. I should have kept my Pixel 2. IPhone is a dying breed, it is a shame that Google is trying to cooy it. I used to like Android because it was not Apple. Now, I will have to wait for something else. Samsung Focus I917 Unlocked Phone with Windows 7 OS, 5 MP Camera, and Wi-Fi--No Warranty (Black) : Brand New: The package arrived on time and it was brand new out of the box. For real, it was like I bought it brand new out the store. Samsung Galaxy S7 Edge G935FD 32GB Unlocked GSM 4G LTE : Exceptional quality and all around beautiful, however- the way it's configured: Exceptional quality and all around beautiful, however- the way it's configured, system wise. It becomes difficult to figure out how to navigate and find the way to correctly install some apps without an actual 'owners book/manual (not included.oh, it's on the phone itself ) had to go to 'you tube' to watch a video's in order to understand on how to do so. PAIN IN THE ASS, I must say. Also very difficult to get/find an exceptable screen cover/shield that fits correctly, so far the one's i've tride won't adhere to the surface, the way the phone edge curves. Anyways....... Samsung Convoy 4 B690 Rugged Water-Resistant Verizon Flip Phone w/ 5MP Camera - Blue (Renewed) : Bad out of box: Did not work after charging the entire night, was returned, refund issued.\",\n",
       "  'Samsung R355C Net 10 Unlimited : Five Stars: great Moto G - Verizon Prepaid Phone (Verizon Prepaid Only) : Great as miniature WiFi \"tablet\": Watch the price, as these are great as a cheap, nearly disposable WiFi-only device. At recent prices, a new one is probably not worth it but the used market thrives. Note that the battery is permanently attached so refreshing an abused phone isn\\'t an option, either. Stick with Fulfilled by Amazon, very good condition, and return one that\\'s not as advertised. Nokia Lumia 635 8GB Unlocked GSM 4G LTE Windows 8.1 Quad-Core Phone - Black : Very dissatisfied: I can\\'t receive pictures or get on the internet. This phone doesn\\'t have a flash so all pictures are dark Samsung Galaxy S8 Plus (S8+) (SM-G955FD) 4GB RAM / 64GB ROM 6.2-Inch 12MP 4G LTE Dual SIM FACTORY UNLOCKED - International Stock No Warranty (MIDNIGHT BLACK) : It was not working: None working phone for sell Samsung Galaxy S7 Edge G935FD 32GB Unlocked GSM 4G LTE : Three Stars: This product was purchased for another person. Samsung Galaxy S4, White Frost 16GB (Sprint) : Love it: I love it Xiaomi MI Mix 3 (128GB, 6GB) 6.39\" Display, Dual SIM 4G LTE GSM Unlocked Multi-Functional Magnetic Slider Smartphone w/Wireless Charging Pad (Black) : Awesome device: Really liking this device, very fast and responsive I\\'m upgrading from a Mi 8 and I can tell the difference between the 2 devices. Even though it has a SD 845, last year chipset, it\\'s still really good in 2019. Having 6GB RAM makes every app runs very smooth. Didn\\'t have any issues with connective using US carrier (T-MOBILE) whether receiving calls/texts/notifications, I like that it has NFC specially for using multiple headphones/ear buds it made it easy to pair. No issues on running any apps runs smooth. Yeah it has a ceramic back, which attracts fingerprints but that\\'s normal with the new cell phones now a days, whether it\\'s ceramic, glass or even high gloss plastic back. It will leave fingerprints. I know that most of Xiaomi phones doesn\\'t have a app drawer but that\\'s an easy fix. Download a free app launcher from Google Play store. The MIUI OS is easy to get used too. The gesture navigation is amazing. The slider is built solid, no issues on using it whether taking selfies or just sliding it up & down. Probably want to get a case for the phone, it a slippery phone. I don\\'t have a case because I\\'m using a pop socket. Definitely worth it. Loving the bezel less display, colors are nice and vibrant. Microsoft Lumia 950 32GB Dual Sim NAM RM-1118 GSM Factory Unlocked - US Warranty (Black) : Best Phone Ever: The only thing Android phones have over this one are the number of apps that are available. Other than that, this phone is better feature by feature than any Android or Apple phone on the market. The ease of use, camera, apps and privacy are all far superior. Too bad Microsoft no longer supports the platform. Shame on them, but not surprising. Typical of Microsoft to give up too soon. Samsung Galaxy Note 3, Black 32GB (Verizon Wireless) : One Star: Verizon was not able to activate phone. Nokia 7.1 - Android 9.0 Pie - 64 GB - Dual Camera - Dual SIM Unlocked Smartphone (Verizon/AT&T/T-Mobile/MetroPCS/Cricket/H2O) - 5.84\" FHD+ HDR Screen - Steel - U.S. Warranty : Solid phone for under 400 bucks: Great phone, unfortunately my wife dropped it without a case so it shattered. Bloatfree android is a great experience and the phone is a nice size. Apple iPhone Xs Max, 256GB, Space Gray - Fully Unlocked (Renewed) : Apple iPhone SX Max 64GB: I know it would have been great, but I ordered it by mistake. Had to send it back. Motorola DROID Turbo XT1254, Black Ballistic Nylon 32GB (Verizon Wireless) : Three Stars: new Google Pixel 2 XL 128 GB, Black (Renewed) : Awesome phone: I absolutely love the Google Pixel 2XL so far.. I joined Google Fi and transferred my number and it was really simple. The phone is in great condition. Will update later on..',\n",
       "  'Samsung Galaxy Prevail II (Boost Mobile) (Discontinued by Manufacturer) : Five Stars: Good quality...worth the price... Moto Z GSM Unlocked Smartphone, 5.5\" Quad HD screen, 64GB storage, 5.2mm thin - Black : he said it was great.: This was a present for my grandson,he said it was great. Google Pixel XL G2PW210032GBBK Factory Unlocked Smartphone, 32GB, 5.5-Inch Display - U.S. Version (Quite Black) : So Happy With My Purchase: I purchased this phone for my little girl for Christmas and was so excited that she opened it early. The phone was in immaculate condition, both mechanically and cosmetically. It works great and I\\'m actually jealous of my little girls phone. I will be ordering myself one after Christmas Samsung Galaxy Note8 N950U 64GB Unlocked GSM LTE Android Phone w/ Dual 12 Megapixel Camera - Midnight Black : Four Stars: The unlocked version doesn\\'t have visual voicemail. Huawei Mate 10 Pro Unlocked Phone, 6\" 6GB/128GB, AI Processor, Dual Leica Camera, Water Resistant IP67, GSM Only - Mocha Brown (US Warranty) : AWESOME PHONE!: Bought this phone for my wife. No problems, fast phone, great Network coverage, fast WiFi speeds, awesome video quality... overall best affordable phone.. and we have Tmobile Samsung Galaxy A30 Dual SIM 32GB (SM-A305G/DS) Unlocked Phone GSM International Version - Blue : Isaiah: Love it!!!!! Google Pixel 2 XL 64 GB, Black (Renewed) : Blown speaker with 72 hours: The phone\\'s speaker began to produce \"cracked\" sounds within 3 days of receiving the device. Was listening to music when I noticed the speaker sounded like it was already blown. Restarting the phone would initially fix the problem, but the issue would continually return minutes/hours after the restart. Phone now only produces \"cracked\" and distorted sounds. CR Land was the vendor to provide this unit. Samsung Galaxy S6 Edge+, Black 64GB (Sprint) : Pros ane cons for samsung galaxy s6 edge +: I have had this phone a few months now and would like to leave a review. Phone works great, great features, the edge screen is cool and has its own features. Very easy to use phone for any age. Con is it over heats on somephones. This is my second phone the first one over heated and I lost control of half my screen. Don\\'t let it sit on charger too long expecially fast charger. Would give five stars if it didn\\'t over heat as much. Still a good phone. Would recommend. Nokia Lumia 920, Black 32GB (AT&T) : Great phone, new features are really great.: I am a happy Nokia Lumia 900 phone user and I am so happy to finally get the Nokia Lumia 920 (Yellow) WP8 device. Happy to see the tiles are now customizable. Fell in-love with Lumia 900\\'s camera specially when taking videos and photos and guess what? Lumia 920 never fails me at all. We now have an option to shoot videos at 1080p (default is 720p) it will auto detect and turns the light on in low-light yes, during video recording. Aside from the tap and share photos we can now use the Nokia maps to share locations (for HTC WP8 users bing maps has this feature too). I also like the new Family Room feature where you can invite facebook friends/relatives or other person you want to add from your contact list so you can track events and recent activities of the people you know and care :) If you have kids definitely turn on the Kid\\'s corner so you can let your kids play your phone and not mess with it. I have posted some videos on my you tube channel (teknowsit) if you want to check Nokia Lumia\\'s 900 video on Richard Marx\\'s recent Seattle concert. I will soon upload my videos from my Lumia 920\\'s for future reference. Wish list: Hopefully in the future WP will be able to play the videos purchased from my xbox live account so I can have a complete user experience from xbox-surface-pc-phone devices.',\n",
       "  'Nokia 6.2 - Android 9.0 Pie - 64 GB - Triple Camera - Unlocked Smartphone (AT&T/T-Mobile/MetroPCS/Cricket/Mint) - 6.3\" FHD+ HDR Screen - Black - U.S. Warranty : Really very good: Surprisingly good for the price. The LCD screen is super-bright. Photos are good enough for me, not as good as my wife\\'s phone that\\'s worth 6x this but I expected that. Stock Android is really nice too. Very happy with this. Needs a case as the all-glass front and back makes it slide off every surface. Moto G - Verizon Prepaid Phone (Verizon Prepaid Only) : Five Stars: PERFECT! Samsung Galaxy S7 Edge Smartphone - GSM Unlocked - 32 GB - No Warranty - Black : Three Stars: Okay phone. Received with a few scratches',\n",
       "  'Xiaomi Redmi Note 8 Pro (64GB, 6GB) 6.53\", 64MP Quad Camera, Helio G90T Gaming Processor, Dual SIM GSM Unlocked - US & Global 4G LTE International Version (Pearl White, 64 GB) : It\\'s not a fake...it\\'s the real deal!: This is the original version of the Redmi note 8 Pro. The antutu score verified it. Nokia Lumia 635 8GB Unlocked GSM 4G LTE Windows 8.1 Quad-Core Phone - Black : Two Stars: Does it come with battery Samsung Galaxy Note 5 SM-N920V Gold 32GB (Verizon Wireless) : One Star: Product did not work Sony Xperia XZ F8332 64GB Forest Blue, 5.2\", Dual Sim, GSM Unlocked International Model, No Warranty : Four Stars: Everything Perfect! very good product Nokia 3310 3G - Unlocked Single SIM Feature Phone (AT&T/T-Mobile/MetroPCS/Cricket/Mint) - 2.4 Inch Screen - Charcoal : Rating is for the listing, not the phone: While this seems to be a perfectly good phone, listing it with \"T-Mobile\" in the title is misleading as it won\\'t work on the T-Mobile network in the US. It is possible it works in some places where T-Mobile still has 3G service on the listed bands, but that\\'s not the case in Seattle or San Francisco. ASUS ZenFone Max Plus ZB570TL-MT67-3G32G-BL - 5.7” 1920x1080-3GB RAM - 32GB storage - LTE Unlocked Dual SIM Cell Phone - US Warranty - Silver : bellísimos y excelente calidad: bellísimos y excelente calidad Samsung Galaxy S7 32GB G930V Unlocked - Black : Works, but screen was damaged: Works fine, but the screen was burned when it arrived. The previous owner clearly did a lot of driving, because their navigation app is permanently imprinted on it. It\\'s not unusable, but replacing the screen would cost more than I payed for the device Samsung Galaxy S7 Edge, 5.5\" 32GB (Verizon Wireless) - Blue : THIS IS A HONEST TAKE ON A BEAUTIFUL PHONE: MUST COVER UP ALLTHE BEAUTY OF THIS PHONE. I HAVE BEEN A SAMSUNG CUSTOMER FOR MANY YEARS NOTE 2 3 4 AND 5 BUT I DECIDED TO TRY THIS EDGE PHONE. LIKE ALL I WAS ATTRACTED TO THE SLEEK GLASS DESIGN AND ILL TELL YOU WHEN YOU GET IT IN YOUR HAND YOU WILL AGREE THAT IT IS ONE CLASSY LOOKING PHONE. I IDID A LOT OF RESEARCH ON THE PHONE BIG PURCHASE FOR ME. FOR ME I HAVE NEVER USED A SCREEN PROECTORJUST A BODY SHIELD AND NEVER HAVE I SCRATCHED UP A PHONE. I BOUGHT CLEAR BACK PROTECTIVE COVER TO SHOW OFF THE BEAUTY. WELL WITHIN ONE WEEK I HAD SEVERAL SCRATCHES INCLUDINGG ONE OVER 1/2 INCHLONE ON THESCREEN. I WAS CRUSHEDAND WHT DID I HAVE TO DO ARMOR GUARD THE WHOLE PHONE FOR PROTECTION. WHEN THIS IS DONE YU ONT SEE THE BEAUTY SO WHY PAY FOR THAT. FUNCTIONALY I THINK IT DOES MORE THENANY PHONE OUT THERE BUT IF YOUVR BEEN CARRING A NOTE YOU WILL BEREACHING FOR YOU PEN ALL DAY AS I DO. ISHOULD HAVE GOTTENTHE NOTE5. Huawei Mate 20 Lite SNE-LX3 64GB (Factory Unlocked) 6.3\" FHD (International Version) (Black) : sapphire blue my favourite!: I am so amaze by this phone..its fast..accurate and very attractive..the features it carries makes my very day task much more easier..excellent phone anyone should have! Motorola Moto G7 Power 32GB+4GB RAM XT1955-2 LTE Factory Unlocked GSM 5000mAh Battery Smartphone (International Version) (Marine Blue) : First phone that I actually love.: For me the performance is impeccable. Apps open and work super fast, the wifi connects so quickly whenever I change locations that I don\\'t even notice a lag. The battery life is unbeatable, I use my phone about 45 minutes per day so I only have to charge once a week, and even when I decide to recharge I still have about 45% of charge left as a reserve! Samsung R355C Net 10 Unlimited : Five Stars: great',\n",
       "  \"settings had date/time settings, call settings, phone settings etc ... that menu that all nokia whores would know.. its a little tricky finding what i need to, but i understand that they have to be a little modern to remain relevant b) connecting to my pc was a little challenging, not quite 'plug-and-play' - but then i think that solved itself (kind of) - i still have an issue with accessing my memory card and putting things on it, when i plug it in all i see is the 32G built in memory and not my card. but i haven't committed any effort into figuring this out, so i'll only mention it out of consideration for others. i'm sure nokia can just design an OVI Suite and that'll solve everything.. though personally.. i hated the OVI suite the 2690 used c) i don't have whatsapp (against my grain) i text. i hate that i can only select 1 text message at a time, i'f i have to forward 3 messages to a colleague, i have to select them individually and send, rather than just send all at once... or delete an entire conversation thread, as opposed to just deleting certain redundant parts of a conversation thread. but whatever. its annoying, but doesn't change the fact that i exhale more carbon dioxide than i inhale when i respire. summary: worthy of the name nokia.\",\n",
       "  'Sony Xperia X F5121 32GB GSM 23MP Camera Phone - Graphite Black : vivid screen and stylish features makes the transition from iPhone to Android easy: For an iPhone user, adapting to the Android operating system takes patience, time and a certain reinvention of your normal Mac inclinations. Sony’s Xperia X Command cell phone (unlocked) is a superb device to acquaint the new user and transit from an iPhone 6 to Android OS. Xperia’s shiny screen, the same width as the iPhone, is 1/4” inch longer, noticeably brighter (radiant may be the right word), the colors richer and with more depth and click or swipe response time between apps markedly faster. Sony’s design is sleek and modern, corners are round, not sharp, the back is a hard tactile plastic but with an inexpensive slip case (from Amazon) secure and comfortable to one’s grip (the device’s length measures 5 ½” w/o slip case, 5 5/8 with case). Its battery charges up quickly; surely faster than the iPhone and can last for two (2) days according to the manufacturer. There is a modest amount of “bloatware” when one swipes left (games, etc.) but this is minor annoyance. The rear-mounted camera produces vivid photos with notable clarity and detail. It shoots videos or stills. For extra storage, a SD card tray is part of your carrier’s SIM tray on the side which makes the device ideal for watching sports or movies. The range of the Android OS impresses and this fine cell phone makes the transition a welcome treat. Samsung Galaxy J5 SM-J500H/DS GSM Factory Unlocked Smartphone, International Version (Gold) : I love the camera features especially sine the forward camera has ...: No complaints. I just inserted my two sim cards and my memory card any the phone picked up both networks. I logged into my google accounts and al my apps were there and synced. I love the camera features especially sine the forward camera has a flash as well. The phone is not too large or too small. It is perfect. Samsung Galaxy S6 Edge+, Black 64GB (Sprint) : the phone was in great condition. It also works without any issues: the phone was in great condition. It also works without any issues, but it did not include a sim card. Samsung Galaxy Note 3, Black 32GB (Verizon Wireless) : Five Stars: my son loves it Samsung Galaxy S10e 128GB+6GB RAM SM-G970 Dual Sim 5.8\" LTE Factory Unlocked Smartphone (International Model) (Prism Black) : Awesome: Love the phone, expectwd it to be a scam, butnit turned out to be a bargain! OnePlus 6T A6013 128GB Mirror Black - T-Mobile (Renewed) : Great Phone: My son broke his iPhone - again, so I recommended this OnePlus since it\\'s less expensive since I have one. He loves it. It works so much smoother and faster than his iPhone. Samsung Galaxy J3 Prime J327A 16GB 4G LTE 7.0 Nougat 5\" GSM Unlocked - Black : Cheaper model received.: Ad says Galaxy J3 and I have received diferent cheaper model. Dont buy this. Samsung Galaxy Note 5 SM-N920V Gold 32GB (Verizon Wireless) : Junk.: I\\'ve had the Note 5 for about a year now and it was great for the first couple of months, eventually it stopped holding a charge and now it actually loses power while charging. I\\'ve tried multiple cables, clearing cache, factory reset, etc. all to no avail. Never again Samsung. Samsung Galaxy S7 Edge G935A 32GB Gold - Unlocked GSM (Renewed) : Didnt receive accessories for phone and wasnt unlocked for compatibility with carrier.: Did,n\\'t have all the accessories no headset, no pen for the Sim card port. And it wasn\\'t unlocked and compatible with my carrier.',\n",
       "  'Nokia 6 - 32 GB - Dual Sim Unlocked Smartphone (AT&T/T-Mobile/Metropcs/Cricket/Mint) - Update To Android 9.0 PIE - 5.FHD Screen - Blue - U.S. Warranty : 4.5 stars: ch 1 introduction - the backstory i bought this phone back in august 2017 sometime thereabouts. my existing \"blu\" died suddenly, and was looking for a phone to carry me over until feb next year when the new gen of Nokia was supposed to be launched (or so i thought) and then i searched to confirm my feb 2018 notion.. and i was enlightened Ch 2 - Preconceived Notions NOKIA!! i\\'m a bonafide nokia whore, built to last.. that\\'s what i\\'m talking about... i had my mind set on getting a nokia as soon as they were re-launched... was always my plan. so there will be some bias to this review. SOME... i had a 2690 until the battery life became <1hr, which was after 6 years ( still have it with my contacts) replaced it with a 220 or something (rubbish). had to get this blu thing which my then gf got for me. .. lasted about 15 months. questions i had: 1) it calls itself a nokia... but then so did the lumia thing 2) can it work in my area? ch 3 - Answers i am proud to declare myself as the first person in Trinidad and Tobago to own a new nokia. what really sold me was in the questions, the seller SPECIFICALLY says \"caribbean\" (july 14 2017)... a seller that cares about me.. all the way out here in the caribbean... nice marketing ploy. it works (on Bmobile) - but note a nanosim will be needed, so be prepared to get that stuff sorted out at TSTT. so question 2- answered .. why do i review it now?? because i was waiting for the right moment, which was earlier this week.. when it slipped out my pocket.. and fell tumbling down about 13 HARD terrazo steps (a height of approx 3-4 metres), it didn\\'t just land, i\\'m telling you.. it flipped, it pitched, it tumbled, it hit the step again and spiralled all the way down , eventually landing on its face in the corner of the staircase.. outside.. i was about to freak out but .. finally! a fall... if a nokia can\\'t take a fall.. it doesn\\'t deserve to even be in the same sentence with the word nokia... ... this phone survived... what\\'s more... i picked it up... and continued to play my game on it (which is what i was reaching it to do) so.... i love it... from an old school nokia whore.. it performs as i would expect... and this was enough for me. it loses 0.5 star.. because i will never give something a full 5... not unless it is really really REALLY REALLY splendid... ch 4 - other nitty gritty for people actually caring for a \"review\" 1) its operation is... i guess par. that aforementioned blu was my first smartphone, i deliberately go against the grain, which \"smartphone\" is a part of- my experience on smartphones and their capabilities is limited so i don\\'t know what the other products out there offer. 2) this does play pokemon go however, i couldn\\'t with the blu (? due to lousy specs) .. i\\'m a year late but .. yay for me.. screw the haters. (i guess this reveals as well that the bar might be a bit low) 3) the camera is awesome tho... quite sublime quality imho 4) i bought with the phone the screen protector- which has cracked, but still works. i want to mention that the other day i lifted it out , and the actual screen of the phone is flawless still, i\\'ve never had a phone... this long... with a scratchless screen. basically, when i change the protector... this phone will look like new. 5) the weight is light (compared to my friend\\'s phones at least.. in my opinion 6) battery life is good, takes about 4 hrs to charge , which can last a little over a day i estimate (if i don\\'t play pokemon) ch 5 - reservations only a few. a) i personally would have found this phone easier to operate, had it had the traditional nokia menus... you know... where settings had date/time settings, call settings, phone settings etc ... that menu that all nokia whores would know.. its a little tricky finding what i need to, but i understand that they have to be a',\n",
       "  'HUAWEI P20 Lite (32GB + 4GB RAM) 5.84\" FHD+ Display, 4G LTE Dual SIM GSM Factory Unlocked Smartphone ANE-LX3 - International Model - No Warranty (Sakura Pink) : Over all I seem to like it after aout 5 months.: So far voice recognition is a pain. Most of the time I will speak my message, nothing comes up for say around 4 seconds, then pops in place and have to restart the voice process (just takes a finger touch) again. Second most dislike. Definitely finds sounds everywhere, so make sure for eg. the TV sound is off. I may not know a better place, but to start the voice message you have a itty bitty place to start it, which is on the key pad that comes up. And if you do not hit it long enough or exactly on the spot all you get is a bunch of ....... This feature I really dislike the most. Takes, what appears, very good pictures. Crisp voice on incoming calls, and others say to me can hear me clearly. On my phone anyway, there are three boxes with numerous apps on them, and one must hit this box, then hit app. One is google, one is tools, and one is top apps. Play store and settings is on the top apps. Mild pain to remember what each one has in them. Have not figured out yet how to give phone more time before it shuts itself off automatically. Sometimes 5-6 seconds is not long enough. Seems loud enough. Battery life, in my opinion, is excellent. There are couple other mild things I wish was better such as on the bottom you have for eg. the back arrow, Nice and crisp when turn it on, but when you get a site you want on the phone the back arrow all but disappears and you kind of have to guess where it is at. There are many likes (can go to foreign country and not have to take out my provider sim lte, because have two areas that can use. Is unlocked which I really like. Screen is very nice size. Of course my likes are only opinions, so study what others have to say. I would buy again. Seems like a good value for the buck. Samsung Galaxy Note 9 (SM-N960F/DS) 6GB / 128GB (Ocean Blue) 6.4-inches LTE Dual SIM (GSM ONLY, NO CDMA) Factory Unlocked - International Stock No Warranty : Not working at all how i return this phon please: It is not working properly Iam regret to buy this phon sorry Samsung Galaxy S6 G920T 32GB Unlocked GSM 4G LTE Octa-Core Android Smartphone w/ 16MP Camera - Black : My mom loves it!: Mom needed a new phone so got her this and she loves it Nokia Lumia 635 8GB Unlocked GSM 4G LTE Windows 8.1 Quad-Core Phone - Black : Four Stars: Great phone!!! Sony Xperia XA1 G3123 32GB Unlocked GSM LTE Octa-Core Phone w/ 23MP Camera - White : Good phone: I\\'ve had ASUS phones for several years now, and I still love ASUS phones. The SONY XPERIA XA1 is a good little phone. It\\'s not a power house and it doesn\\'t have above average picture quality, but overall the phone does what I need it to. I wanted a smaller, lighter weight phone, and compared to my ASUS phones, this is much smaller and lighter. Don\\'t expect to do a lot of high demand gaming and son\\'t expect to see extreme clarity in the photography, but if you\\'re looking for a quality phone with good features and good battery life that is light weight and stylish then this is the phone for you. This phone also has a very good cellular antenna that picks up strong GSM signal and LTE in places that my other phones get little or no signal in. Overall a good phone that does exactly what I need it to. Samsung Galaxy S7 - Black - 32GB - Verizon (Renewed) : Worth it: I loved that I was able to find the same phone for fairly cheap after cracking the screen on my other one. Came very quickly, and with a charger, which I wasn\\'t expecting. I was disappointed that the main button was already chipped/worn when I got it. But on my old phone (same galaxy s7) that was the first thing to happen, and it didn\\'t affect the functionality. So I guess you get what you pay for. Not a perfect phone, but worth it as a cheaper substitution than buying a brand new phone.',\n",
       "  'Samsung Galaxy S7 Edge Smartphone - GSM Unlocked - 32 GB - No Warranty - Black : Three Stars: Okay phone. Received with a few scratches Samsung Galaxy S4, White Frost 16GB (AT&T) : Great phone, BAD Lollipop!: I felt compelled to write a review on the 32Gb Samsung Galaxy S4 after having just received a big disappointment in ordering a used \"Like New\" example of this now obsolete AT&T model you can\\'t otherwise buy anymore. I\\'ve owned this model for two and a half years; several of them; including S3 and Note 3s. I know this phone very well, and I have suffered through all the renditions of Google\\'s different Android firmware upgrades, beginning with 2.*. You might see I have given this phone FIVE STARS. But I had to return the phone, because unlike what it was advertised to have as 4.2 Jelly Bean software, it came to me with 5.0.1 Lollipop. I CAN\\'T STAND LOLLIPOP. I cannot use the words I would like to properly describe how much I HATE LOLLIPOP. It was not what was advertised, so back it goes. LOLLIPOP, as with all the Android Firmware variants since inception, are a 3-way partnership between: GOOGLE, the Phone Manufacturer, and the Service Provider. In my case, these latter two are Samsung (obviously), and AT&T. The User Interface (UI) on Lollipop is as if you are dealing with an entirely new company on the other side of the planet. There is very little familiarity between Kit Kat (the predecessor) and Lollipop. I have always TURNED OFF a lot of the canned software in all my versions of Android, up through 4.4.4. They became trickier as the newer versions came out. Now, with Lollipop, you can\\'t turn off any of the ones that are important to turn off, if you want to extend your battery life, and especially if you want some measure of SECURITY and PRIVACY. Both AT&T and Samsung, have loaded their two-cents worth of bloat-ware (unnecessary, self serving branded software); but Google has made it mandatory for you to have \"Google Play Services\" turned on, IF you want access to your contacts! Google has made a big mistake with Lollipop, and believe it or not, it is already being replaced by \"6.0\" and a new name (that I forget). The User Interface is everything, and by changing it as drastically as they did, they have alienated many professional people who depend on the familiarity of their calendar settings, contact lists and editing them, and many other things that have now been changed. It is an UGLY, UGLY, monochrome style UI. It is WHITE background with Black (and pale blue accents) text. Photos are little circles now. But worse of all, is all the crap software they\\'ve added you don\\'t need, and can\\'t turn off. It is all designed to keep track of YOU, or get you to BUY something, or GIVE something to them -- like more and more of your personal information in order to fully use features of the phone that was once free without taxing you for your personal history and profiles. How you use your phone, who you call, what you surf on the Internet and all your contact information is being absorbed by these corporate monsters for the sole purpose of CONTROLING YOU, today and in the future. Lollipop makes it easier for them to do this. You can ROOT your phone, and become an IT engineer if you want; but as rich as all these companies have become from consumer patronage, we shouldn\\'t have to give up more and more time, learning new User Interfaces, and surrendering our privacy and habits because they shove software and phones down our throats that we can\\'t control, can\\'t turn off, can\\'t customize for our preferred use. We used to have these perks. But now they are very expensive, or non-existent. Samsung Galaxy S6 G920T 32GB Unlocked GSM 4G LTE Octa-Core Android Smartphone w/ 16MP Camera - Black : SIM card slot is damaged: Don\\'t buy from the place name that starts with bay. I bought a galaxy s6 that had a defective SIM card reader. But everything else was fine but you can\\'t use the phone, you\\'d have no service so what is the point',\n",
       "  'Samsung Galaxy Note 8 SM-N950U 64GB Gray Verizon Unlocked -Excellent : Yep! It\\'s a Samsung!!!: I had a big concern about all of the \"renewal\" available so I purchased a new one. So far (fingers crossed) it is running fine and I like it! I\\'m hoping I don\\'t have issues for what I paid for it so I\\'ll give it as of this feed back a \"thumbs up\"!!! Apple iPhone X, 256GB, Silver - For AT&T (Renewed) : Good: Good Sony Xperia XA1 Ultra G3223 32GB Unlocked GSM LTE Octa-Core Phone w/ 23MP - Gold : Unlocked and Payments Free: No Payments and i can Use it overseas. Thats all i wanted, and this more and meets and exceeds expectations. Router Hotspot 4G LTE Unlocked GSM (LTE USA AT&T T-mobile Metro Pcs Cricket Latin & Caribbean) Huawei E5573s-508 up to 10 wifi users CAT4 : Internet: Es cómodo y portátil. Nokia 6 - 32 GB - Dual Sim Unlocked Smartphone (AT&T/T-Mobile/Metropcs/Cricket/Mint) - Update To Android 9.0 PIE - 5.FHD Screen - Blue - U.S. Warranty : It’s a new phone.: This seems to be exactly what I was looking for! Although time will tell, I believe it is easier to use and adjusts readily to my needs. Excellent phone choice, good sound, great visuals. Samsung Galaxy Note 5, Black  64GB (Verizon Wireless) : Two Stars: Pen is hard work on screen .. Samsung Galaxy S7 - Black - 32GB - Verizon (Renewed) : New phone for a super low price.: OK, this is a \"new\" phone. If it\\'s not no way to tell the difference. It was delivered in 3 days, and is a great value. I HIT THE JACKPOT. New phone for a super low price. Nokia Lumia 635 8GB Unlocked GSM 4G LTE Windows 8.1 Quad-Core Phone - Black : A nice smart phone with all the basics!: This is our 1st smart phone, and it does everything we need. We wanted something reasonably priced, as we are beginners with these types of phones. It has a good mp3 music player, great volume. The camera is good, but is only on one side, so, sorry no selfies for him. It does not have a flash. The user downloads a ton of apps, and all have worked great. He plays games non stop, & listens to his awful loud music, and it is working for that too. It is a good size, and easy to use. He can connect it to the computer, wifi, bluetooth, email, text, internet, & more. It gets good reception in our area, and we are out in the sticks. Nokia is know for great reception. My 65 year old guy loves it! Nokia Lumia 635 8GB Unlocked GSM 4G LTE Windows 8.1 Quad-Core Phone (Black) Samsung Convoy 3 SCH-U680 Rugged 3G Cell Phone Verizon Wireless : This is an awesome phone. I started out with the Convoy-2 then ...: This is an awesome phone. I started out with the Convoy-2 then went to the 3 when I needed a replacement. I am looking for my 3rd Convoy (this over quite a few years). I am very hard on phones. Rugged, dependable, gets signal when my wife\\'s smart phone will not and stays charged a very long time. Contrary to what another poster has said. Batteries are very easy to get for this phone. Unlocked GOLD Xiaomi Mi A2, 4GB 64GB, Dual SIM standby, Global Version, 5.5 inch Smartphone Android One, Dual Rear 12.0MP Camera Snapdragon 625 : Mucho mas de lo esperado: Excelente! Nokia 6 - 32 GB - Dual Sim Unlocked Smartphone (AT&T/T-Mobile/Metropcs/Cricket/Mint) - Update To Android 9.0 PIE - 5.FHD Screen - Blue - U.S. Warranty : Perfect phone for me!!!: The phone is dual sim.',\n",
       "  'Motorola Moto X4 Factory Unlocked Phone - 32GB - 5.2\" - Super Black - PA8S0006US : Great choice!: I have always been a Moto fan since my very first phone was a Motorola. This X4 did not disappoint! It is fast, clear, easy to use..and I will never buy a full price phone again. Unlocked and at a fraction of the price of the other phones out there, this phone is a bargain. I am not a techno freak so minor things do not bother me. I use the phone as a phone, for email and texting. Picture taking is not that important to me but this camera looks great so far. I love the no touch hand hover to see the screen for the time and notifications. The battery lasts me two days normally. Charges very quick. I have only had this phone for a few weeks, so I may update this review if anything good or bad comes along. Just a warning on the price. Seems like it goes up and down like a yo yo. It is now double the price I paid a just a few weeks ago. My price was under 150 for the blue 32mb model with no Amazon ads...so look for that price point. You may be able to get the Amazon prime phone with ads in black cheaper yet. My wifes phone has the ads, I have yet to hear her complain about them. I would definitely recommend this phone to anyone. Motorola Moto X (2nd generation) XT1097 GSM Unlocked Cellphone, 16GB, Black Soft Touch : LOVE, LOVE, LOVE it!!!: LOVE, LOVE, LOVE it!!! Arrived quick and it works great!! Love the fact that you can wave your hand or any object in front of it when phone is locked and the time comes on!! Great feature...among many others!!!! Camera takes really good pix too!! Nokia Lumia 928, White 32GB (Verizon Wireless) : Fantastic: I have to say that this is a huge step up from my old phone which was HTC Rhyme. Granted that upgrading to any phone from the Rhyme is a big plus, but I digress. Anyway, I really love this phone because for one the OS is really simple and easy to understand and customize. The call quality have been very clear and easy to understand, and the camera is out of this world. I go to a lot of shows and can record a band so well that it looks professional. Bottom line, this is an amazing phone and the apps are really coming around. Thumbs up! Moto G7 Power - Unlocked - 64 GB - Marine Blue (No Warranty) - International Model (GSM Only) : works peachy on ATT: even came with a clear silicone case. works peachy on ATT. messed up cutting the macro SIM card, had to get a new nano-sim from the ATT store for five bucks. Google Pixel 2 XL 64 GB, Black (Renewed) : Tried this twice, defects with both: First phone arrived and looked awesome, but soon noticed that phone would not play sound through headphones. Thought I would try another one, it arrived looking not fully cleaned and with scratches on the screen. Going to try ebay now.',\n",
       "  'Nokia Lumia 530 White - No Contract (T-Mobile) : I wanted something that wasn\\'t historic like a flip phone: I needed to downsize my phone/plan. I wanted something that wasn\\'t historic like a flip phone, cost effective and still maintained some of the more expensive smart phone features. I found that in this phone. The phone was reasonably priced. I can vouch that it is a Tmobile phone that came in T-Mobile packaging that I was able to activate with no problems. I\\'m adjusting to the Windows phone format having been using a Galaxy for many years, but it\\'s not bad at all. I still can message, check email, download apps (have to have my Kindle) and access Internet. The camera is only-rear-facing making those selfies harder to capture (lol), but it\\'s not that big of a deal! I\\'m actually enjoying this phone, and considering the price compared to paying $200-$500 for a more expensive smartphone (and that\\'s older versions, or refurbished) you really can\\'t beat that. If you are just venturing into smartphone land and want an easy transition, this is a great user-friendly phone. Xiaomi Redmi Note 6 Pro 64GB / 4GB RAM 6.26\" Dual Camera LTE Factory Unlocked Smartphone Global Version (Black) : Premium phone for a budget price!: I am loving MIUI 10. It has some pretty cool features. Battery life is great and fingerprint reader is lighting fast! I get decent service for AT&T in the U.S. Including LTE when it is available. Camera is also no slouch. Definitely recommend. Samsung Galaxy J2 Core 2018 International Version, No Warranty Factory Unlocked 4G LTE (USA Latin Caribbean) Android Oreo SM-J260M Dual Sim 8MP 8GB (Black) : Excelente: Demasiado bueno Samsung Galaxy A10 32GB (A105M) 6.2\" HD+ Infinity-V 4G LTE Factory Unlocked GSM Smartphone - Black : You will NOT regret this!: I could not be any more pleased!! Not only did this arrive within 2 days, but I set it up BY MYSELF!! Not too shabby for a middle aged female, hahaha. The phone came sealed in its Galaxy box with a charger and headphones. Honestly, if I could give this six stars, I would! THANK YOU!! Nokia 105 RM-1135 Dual-Band (850/1900 MHz) Factory Unlocked Mobile Phone, Black, 2G Network Only. : Five Stars: Very good Motorola Droid Turbo - 32GB Android Smartphone - Verizon - Black (Renewed) : Five Stars: This phone is great love it does a lot battery life is great good purchase Nokia 6 - 32 GB - Dual Sim Unlocked Smartphone (AT&T/T-Mobile/Metropcs/Cricket/Mint) - Update To Android 9.0 PIE - 5.FHD Screen - Blue - U.S. Warranty : Great phone for the money.: Got this for my daughter - she loves it and it saved me a ton of money over a dumb ol i phone or Samsung. I now use it for all of the apps I can\\'t run on my windows phone :)',\n",
       "  'Samsung Galaxy S6 Edge+, Black 64GB (Sprint) : plastic screen deception possible!: phone is in new condition i love it but i think i was tricked the screen is plastic!! and it is kinda difficult to type and sometimes the screen didnt respond due to the plastic screen. i dont think its gorilla glass 4 Samsung Convoy 3 SCH-U680 Rugged 3G Cell Phone Verizon Wireless : I am very happy with the phone and it works perfectly: My previous one star review was erroneous and I apologize for posting it. I am very happy with the phone and it works perfectly.',\n",
       "  'Google Pixel Phone 3-64GB Clearly White (Renewed) : Android, because some of us aren\\'t children anymore: Pure Google FTW Samsung Galaxy S6 G920A 32GB Unlocked GSM 4G LTE Octa-Core Android Smartphone with 16MP Camera - Black Sapphire : Disapponting phone purchase ■■■■: i must express my utter disappointment in the phone purchased, i enquired if whether the phone was new to which it was confirmed however, i find that seller was very disingenuous, 2 1/2 months into using the phone the screen constantly goes purple and constantly flashes, the charger does not fit properly hence charging is not possible. After spending all that money for which i was guaranteed a new phone, i am now force to purchase another because of sellers like u who are less than truthful when selling online Xiaomi Redmi 7 32Gb+3GB RAM 6.26\" HD+ LTE Factory Unlocked GMS Smartphone (International Version, No Warranty) - Blue : Good phone: fast delivery and the seller very attentive in everything ... good decision mine..10 for you ... sellers Samsung Galaxy Prevail II (Boost Mobile) (Discontinued by Manufacturer) : Satisfied for now: I thought that this phone would be better than my last one (Kyocera edge) but it\\'s running out of space already and I bought a sd card hoping to be able to transfer apps to the card, however I found out thid is not possible (as much as I have researched) bottom line, I like the phone but it\\'s not the greatest. It works for me right now. Samsung J3 - Verizon Prepaid : Most Bang for your buck?: It’s my first Android and I only use it for business. I didn’t even know it had a fingerprint scanner until now!! Lol. It’s very clean, battery lasts forever. And, all the accessories I got for that price it was well worth it! Xiaomi Redmi Note 7, 64GB/4GB RAM, 6.30\\'\\' FHD+, Snapdragon 660, Black - Unlocked Global Version : This phone sounds good on paper but it isn\\'t that great.: pros-nice screen size, cheap, nice space size, able to remove adware/bloatware,free case included, it came with a free 8gb sim card as a gift cons- -This phone can not group chat even when using facebook\\'s messenger as the primary message app. - Besides the group chat, the phone cannot send pictures to another smartphone user. -Pictures is never sent to an android or iPhone user. -The 48mp camera seems to be fake. - I fail to notice why the battery is being praised. The battery life seems to be avg in comparison with regular smartphones. In recent forums, the new MIUI update puts a strain on the battery performance on the phone. -the amount of adware/bloatware is crazy but luckily it could be debloated Samsung Galaxy S4 SGH-I337 USA GSM Unlocked Cellphone, 16GB, Frost White : Five Stars: Works great - saved hundreds! Nokia 7.1 - Android 9.0 Pie - 64 GB - Dual Camera - Dual SIM Unlocked Smartphone (Verizon/AT&T/T-Mobile/MetroPCS/Cricket/H2O) - 5.84\" FHD+ HDR Screen - Steel - U.S. Warranty : amazing hardware: beautiful phone, works just fine. No annoying apps Samsung Galaxy S4, Black Mist 16GB (Sprint) : either it or sprint troube since day 1 love the s3 my son has and the s5 my ...: either it or sprint troube since day 1 love the s3 my son has and the s5 my husband has Motorola Barrage V860 Phone (Verizon Wireless) : Very Prompt service- phone is an identical phone for my ...: Very Prompt service- phone is an identical phone for my mom so it is just what she wanted. Xiaomi Mi 8 Lite (64GB, 4GB RAM) 6.26\" Full Screen Display, Snapdragon 660, Dual AI Camera\\'s, Factory Unlocked Phone - International Global 4G LTE Version (Black) : Best Product: Very good product Google Pixel 2 GSM/CDMA Google Unlocked (Clearly White, 64GB, US warranty) : Was worried about not getting the XL but this screen is so good it makes up for the small size: Everything about this phone just works. Get a real PD USB C charger and it will charge in no time at all. Amazing deal at $181',\n",
       "  'HUAWEI P20 Lite (32GB + 4GB RAM) 5.84\" FHD+ Display, 4G LTE Dual SIM GSM Factory Unlocked Smartphone ANE-LX3 - International Model - No Warranty (Sakura Pink) : Not fully compatible with T-mobile: Nice phone, way more better than Samsung with the similar price. However, the phone is not fully compatible with T-mobile. Text is delayed by 5-10 min. Cannot receive calls randomly (incoming calls are directed to voice message). T-mobile technicians cannot fix it, so need to return the phone. Sony Xperia XZ F8332 64GB Forest Blue, 5.2\", Dual Sim, GSM Unlocked International Model, No Warranty : My experience.: Love the product, no complaints! I had no problems with the phone itself, but I received a charger I was unable to use. I read the reviews and Q&A\\'s and thought it came with an American charger. This is not a complaint on the seller, just to inform others, that even though you read through the reviews and Q&A\\'s, it is better to contact seller directly about any questions you may have. Motorola XT1585 Turbo 2, (32GB) 5.4\\'\\' (White, Verizon) : Butter beware!: The florescent pink line down the middle was mentioned in the small print. Be careful when buttonhole refurbished items! Nokia Lumia 900 Black Factory Unlocked : Five Stars: very good'],\n",
       " 'uris': None,\n",
       " 'data': None}"
      ]
     },
     "execution_count": 41,
     "metadata": {},
     "output_type": "execute_result"
    }
   ],
   "source": [
    " db.get()"
   ]
  },
  {
   "cell_type": "code",
   "execution_count": 47,
   "metadata": {},
   "outputs": [],
   "source": [
    "def delete_pdf(doc_path, username):\n",
    "\n",
    "    data = db.get()\n",
    "    filtered_ids = [\n",
    "        data['ids'][i]\n",
    "        for i in range(len(data['metadatas']))\n",
    "        if data['metadatas'][i]['source'] == doc_path and data['metadatas'][i]['user'] == username\n",
    "    ]\n",
    "    db.delete(filtered_ids)\n",
    "\n",
    "    return f'Given document: {doc_path} for the user: {username} deleted from the db'"
   ]
  },
  {
   "cell_type": "code",
   "execution_count": 45,
   "metadata": {},
   "outputs": [],
   "source": [
    "db.delete(filtered_ids)"
   ]
  },
  {
   "cell_type": "code",
   "execution_count": 46,
   "metadata": {},
   "outputs": [
    {
     "data": {
      "text/plain": [
       "{'ids': [],\n",
       " 'embeddings': None,\n",
       " 'metadatas': [],\n",
       " 'documents': [],\n",
       " 'uris': None,\n",
       " 'data': None}"
      ]
     },
     "execution_count": 46,
     "metadata": {},
     "output_type": "execute_result"
    }
   ],
   "source": [
    "db.get()"
   ]
  },
  {
   "cell_type": "code",
   "execution_count": 48,
   "metadata": {},
   "outputs": [],
   "source": [
    "import os\n",
    "\n",
    "def upload_pdf_documents(filepath, username):\n",
    "    \"\"\"Load and add PDF documents to the Chroma database.\"\"\"\n",
    "    file_name = os.path.basename(filepath)\n",
    "    if file_name.lower().endswith('.pdf'):\n",
    "        loader_temp = PyPDFLoader(filepath)  # Assuming PyPDFLoader is defined elsewhere\n",
    "        # Assuming text_splitter is defined elsewhere or passed as an argument if needed\n",
    "        docs_temp = loader_temp.load_and_split(text_splitter=text_splitter)\n",
    "\n",
    "        for doc in docs_temp:\n",
    "            # Replace newline characters with spaces\n",
    "            doc.page_content = doc.page_content.replace('\\n', ' ')\n",
    "\n",
    "            # Check if 'metadata' exists and is a dictionary\n",
    "            if not hasattr(doc, 'metadata'):\n",
    "                doc.metadata = {}\n",
    "            if not isinstance(doc.metadata, dict):\n",
    "                doc.metadata = {}\n",
    "\n",
    "            # Add or update the 'user' field in the metadata\n",
    "            doc.metadata['user'] = username\n",
    "\n",
    "        # Assuming db is defined and has a method add_documents\n",
    "        db.add_documents(docs_temp)\n",
    "    else:\n",
    "        print(f\"Skipping non-PDF file: {file_name}\")"
   ]
  },
  {
   "cell_type": "code",
   "execution_count": 49,
   "metadata": {},
   "outputs": [],
   "source": [
    "db = Chroma.from_documents([Document(page_content=\"\")], embeddings)"
   ]
  },
  {
   "cell_type": "code",
   "execution_count": 51,
   "metadata": {},
   "outputs": [],
   "source": [
    "text_splitter = RecursiveCharacterTextSplitter(chunk_size=512, chunk_overlap=20, length_function=len, is_separator_regex=False)"
   ]
  },
  {
   "cell_type": "code",
   "execution_count": 52,
   "metadata": {},
   "outputs": [],
   "source": [
    "upload_pdf_documents(filepath='/home/azureuser/cloudfiles/code/rag_boilerplate_api/output.pdf', username='ricardo')"
   ]
  },
  {
   "cell_type": "code",
   "execution_count": 1,
   "metadata": {},
   "outputs": [
    {
     "ename": "OperationalError",
     "evalue": "database is locked",
     "output_type": "error",
     "traceback": [
      "\u001b[0;31m---------------------------------------------------------------------------\u001b[0m",
      "\u001b[0;31mOperationalError\u001b[0m                          Traceback (most recent call last)",
      "Cell \u001b[0;32mIn[1], line 6\u001b[0m\n\u001b[1;32m      4\u001b[0m \u001b[38;5;28;01mwith\u001b[39;00m sqlite3\u001b[38;5;241m.\u001b[39mconnect(\u001b[38;5;124m'\u001b[39m\u001b[38;5;124m/home/azureuser/cloudfiles/code/rag_boilerplate_api/info.sqlite\u001b[39m\u001b[38;5;124m'\u001b[39m) \u001b[38;5;28;01mas\u001b[39;00m conn:\n\u001b[1;32m      5\u001b[0m     cursor \u001b[38;5;241m=\u001b[39m conn\u001b[38;5;241m.\u001b[39mcursor()\n\u001b[0;32m----> 6\u001b[0m     \u001b[43mcursor\u001b[49m\u001b[38;5;241;43m.\u001b[39;49m\u001b[43mexecute\u001b[49m\u001b[43m(\u001b[49m\u001b[38;5;124;43m\"\u001b[39;49m\u001b[38;5;124;43mCREATE TABLE IF NOT EXISTS test (id INTEGER PRIMARY KEY, name TEXT)\u001b[39;49m\u001b[38;5;124;43m\"\u001b[39;49m\u001b[43m)\u001b[49m\n\u001b[1;32m      7\u001b[0m     conn\u001b[38;5;241m.\u001b[39mcommit()\n",
      "\u001b[0;31mOperationalError\u001b[0m: database is locked"
     ]
    }
   ],
   "source": [
    "import sqlite3\n",
    "\n",
    "# Example of using a context manager to handle SQLite connections\n",
    "with sqlite3.connect('/home/azureuser/cloudfiles/code/rag_boilerplate_api/info.sqlite') as conn:\n",
    "    cursor = conn.cursor()\n",
    "    cursor.execute(\"CREATE TABLE IF NOT EXISTS test (id INTEGER PRIMARY KEY, name TEXT)\")\n",
    "    conn.commit()"
   ]
  },
  {
   "cell_type": "code",
   "execution_count": null,
   "metadata": {},
   "outputs": [],
   "source": []
  }
 ],
 "metadata": {
  "kernelspec": {
   "display_name": "base",
   "language": "python",
   "name": "python3"
  },
  "language_info": {
   "codemirror_mode": {
    "name": "ipython",
    "version": 3
   },
   "file_extension": ".py",
   "mimetype": "text/x-python",
   "name": "python",
   "nbconvert_exporter": "python",
   "pygments_lexer": "ipython3",
   "version": "3.10.11"
  }
 },
 "nbformat": 4,
 "nbformat_minor": 2
}
